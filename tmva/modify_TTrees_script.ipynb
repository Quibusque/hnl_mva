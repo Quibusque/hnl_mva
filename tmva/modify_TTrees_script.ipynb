{
 "cells": [
  {
   "cell_type": "code",
   "execution_count": 1,
   "metadata": {},
   "outputs": [],
   "source": [
    "# import nbformat\n",
    "\n",
    "# # Load the Jupyter Notebook\n",
    "# notebook_path = \"my_test.ipynb\"  # Replace with your notebook file path\n",
    "\n",
    "# with open(notebook_path, \"r\", encoding=\"utf-8\") as notebook_file:\n",
    "#     notebook_content = nbformat.read(notebook_file, as_version=4)\n",
    "\n",
    "# # Extract and concatenate code from all cells\n",
    "# python_code = []\n",
    "\n",
    "# for cell in notebook_content.cells:\n",
    "#     if cell.cell_type == \"code\":\n",
    "#         python_code.append(cell.source)\n",
    "\n",
    "# # Write the Python code to a .py file\n",
    "# output_file = \"my_test.py\"  # Replace with the desired output file name\n",
    "\n",
    "# with open(output_file, \"w\", encoding=\"utf-8\") as py_file:\n",
    "#     py_file.write(\"\\n\\n\".join(python_code))\n",
    "\n",
    "# print(f\"Python script saved to {output_file}\")"
   ]
  },
  {
   "cell_type": "code",
   "execution_count": 2,
   "metadata": {},
   "outputs": [],
   "source": [
    "# # loop over signal files\n",
    "# for signal_file in signal_files:\n",
    "#     file = uproot.open(signal_file)\n",
    "#     tree = file[treename]\n",
    "#     # Load the variables you want to use\n",
    "#     # it's good_vars + \"C_pass_gen_matching\"\n",
    "#     events = tree.arrays(good_vars, library=\"ak\", how=dict)\n",
    "#     # Define the variables you want to save in the output TTree\n",
    "#     # outputVars = {}\n",
    "#     # for varName in good_vars:\n",
    "#     #     outputVars[varName] = ROOT.vector(\"float\")()\n",
    "\n",
    "#     # Create a new ROOT file and TTree to save the results\n",
    "#     outputFile = ROOT.TFile(signal_file.replace(\".root\", \"_new.root\"), \"RECREATE\")\n",
    "#     outputTree = ROOT.TTree(treename, \"My Tree\")\n",
    "#     print(type(events[\"C_pass_gen_matching\"][1][0]))\n",
    "#     # Loop over each event and perform the operations\n",
    "#     for varName in good_vars:\n",
    "#         var_vector = ROOT.vector(\"float\")()\n",
    "#         for i in range(len(events[\"C_pass_gen_matching\"])):\n",
    "#             #events[\"C_pass_gen_matching\"][i] is a vector and I only want to add to my new tree\n",
    "#             #the events whose corresponding C_pass_gen_matching is 1\n",
    "#             #e.g events[varName][i] = [2.3,1,4.5] and events[\"C_pass_gen_matching\"][i] = [0,1,0]\n",
    "#             #I want to add to outputVars[varName] only the second value, 1.4\n",
    "#             #mask is events[\"C_pass_gen_matching\"][i] but zeros are -999\n",
    "\n",
    "#             try:\n",
    "#                 for mask,var in zip(events[\"C_pass_gen_matching\"][i],events[varName][i]):\n",
    "#                     if mask == 1:\n",
    "#                         var_vector.push_back(var)\n",
    "#                         break\n",
    "#             except:\n",
    "#                 if events[\"C_pass_gen_matching\"][i][0] == 1:\n",
    "#                     var_vector.push_back(events[varName][i])\n",
    "#         print(f\"Adding variable {varName} to output TTree\")\n",
    "#         outputTree.Branch(varName, var_vector, varName+\"/F\")\n",
    "\n",
    "#         # Fill the output TTree\n",
    "#         outputTree.Fill()\n",
    "\n",
    "\n",
    "\n",
    "#     # Save the output TTree to file\n",
    "#     outputFile.Write()\n",
    "#     outputFile.Close()\n",
    "\n",
    "#     print(\"Done!\")\n",
    "#     break"
   ]
  },
  {
   "cell_type": "code",
   "execution_count": 6,
   "metadata": {},
   "outputs": [
    {
     "name": "stdout",
     "output_type": "stream",
     "text": [
      "Welcome to JupyROOT 6.28/04\n"
     ]
    }
   ],
   "source": [
    "import ROOT\n",
    "import uproot\n",
    "import re\n",
    "import awkward as ak\n",
    "import numpy as np"
   ]
  },
  {
   "cell_type": "code",
   "execution_count": 7,
   "metadata": {},
   "outputs": [],
   "source": [
    "signal_files = [\n",
    "    \"/home/CMS-T3/lunerti/hnl_ntuples_for_mva/tree_HnlToMuPi_prompt_DsToNMu_NToMuPi_SoftQCDnonD_noQuarkFilter_mN1p0_ctau1000p0mm_TuneCP5_13TeV-pythia8-evtgen_tree.root\",\n",
    "    \"/home/CMS-T3/lunerti/hnl_ntuples_for_mva/tree_HnlToMuPi_prompt_DsToNMu_NToMuPi_SoftQCDnonD_noQuarkFilter_mN1p0_ctau100p0mm_TuneCP5_13TeV-pythia8-evtgen_tree.root\",\n",
    "    \"/home/CMS-T3/lunerti/hnl_ntuples_for_mva/tree_HnlToMuPi_prompt_DsToNMu_NToMuPi_SoftQCDnonD_noQuarkFilter_mN1p0_ctau10p0mm_TuneCP5_13TeV-pythia8-evtgen_tree.root\",\n",
    "    \"/home/CMS-T3/lunerti/hnl_ntuples_for_mva/tree_HnlToMuPi_prompt_DsToNMu_NToMuPi_SoftQCDnonD_noQuarkFilter_mN1p25_ctau1000p0mm_TuneCP5_13TeV-pythia8-evtgen_tree.root\",\n",
    "    \"/home/CMS-T3/lunerti/hnl_ntuples_for_mva/tree_HnlToMuPi_prompt_DsToNMu_NToMuPi_SoftQCDnonD_noQuarkFilter_mN1p25_ctau100p0mm_TuneCP5_13TeV-pythia8-evtgen_tree.root\",\n",
    "    \"/home/CMS-T3/lunerti/hnl_ntuples_for_mva/tree_HnlToMuPi_prompt_DsToNMu_NToMuPi_SoftQCDnonD_noQuarkFilter_mN1p25_ctau10p0mm_TuneCP5_13TeV-pythia8-evtgen_tree.root\",\n",
    "    \"/home/CMS-T3/lunerti/hnl_ntuples_for_mva/tree_HnlToMuPi_prompt_DsToNMu_NToMuPi_SoftQCDnonD_noQuarkFilter_mN1p5_ctau1000p0mm_TuneCP5_13TeV-pythia8-evtgen_tree.root\",\n",
    "    \"/home/CMS-T3/lunerti/hnl_ntuples_for_mva/tree_HnlToMuPi_prompt_DsToNMu_NToMuPi_SoftQCDnonD_noQuarkFilter_mN1p5_ctau100p0mm_TuneCP5_13TeV-pythia8-evtgen_tree.root\",\n",
    "    \"/home/CMS-T3/lunerti/hnl_ntuples_for_mva/tree_HnlToMuPi_prompt_DsToNMu_NToMuPi_SoftQCDnonD_noQuarkFilter_mN1p5_ctau10p0mm_TuneCP5_13TeV-pythia8-evtgen_tree.root\",\n",
    "    \"/home/CMS-T3/lunerti/hnl_ntuples_for_mva/tree_HnlToMuPi_prompt_DsToNMu_NToMuPi_SoftQCDnonD_noQuarkFilter_mN1p8_ctau1000p0mm_TuneCP5_13TeV-pythia8-evtgen_tree.root\",\n",
    "    \"/home/CMS-T3/lunerti/hnl_ntuples_for_mva/tree_HnlToMuPi_prompt_DsToNMu_NToMuPi_SoftQCDnonD_noQuarkFilter_mN1p8_ctau100p0mm_TuneCP5_13TeV-pythia8-evtgen_tree.root\",\n",
    "    \"/home/CMS-T3/lunerti/hnl_ntuples_for_mva/tree_HnlToMuPi_prompt_DsToNMu_NToMuPi_SoftQCDnonD_noQuarkFilter_mN1p8_ctau10p0mm_TuneCP5_13TeV-pythia8-evtgen_tree.root\",\n",
    "]\n",
    "treename = \"final_tree\"\n",
    "weight_name = \"tot_weight\""
   ]
  },
  {
   "cell_type": "code",
   "execution_count": 8,
   "metadata": {},
   "outputs": [],
   "source": [
    "#list of good_vars from good_vars.txt \n",
    "good_vars = []\n",
    "with open(\"good_vars.txt\") as f:\n",
    "    for line in f:\n",
    "        good_vars.append(line.strip())\n",
    "    good_vars.append(weight_name)\n",
    "    good_vars.append(\"event\")"
   ]
  },
  {
   "cell_type": "code",
   "execution_count": 14,
   "metadata": {},
   "outputs": [],
   "source": [
    "def first_non_nan(arr):\n",
    "    # find the indices of all non-nan values in the array\n",
    "    non_nan_indices = np.where(~np.isnan(arr))[0]\n",
    "    # if there are no non-nan values in the array, return np.nan\n",
    "    if len(non_nan_indices) == 0:\n",
    "        return np.nan\n",
    "    # otherwise, return the first non-nan value in the array\n",
    "    else:\n",
    "        return arr[non_nan_indices[0]]"
   ]
  },
  {
   "cell_type": "code",
   "execution_count": 29,
   "metadata": {},
   "outputs": [],
   "source": [
    "for signal_file in signal_files:\n",
    "    # file_label = re.search(\"mN\\d+p\\d+_ctau\\d+\", signal_file).group(0)\n",
    "\n",
    "    #open the root file and tree with uproot\n",
    "    file = uproot.open(signal_file)\n",
    "    tree = file[treename]\n",
    "\n",
    "    #load the variables you want to use\n",
    "    events = tree.arrays(good_vars, library=\"ak\", how=dict)\n",
    "    mask = events[\"C_pass_gen_matching\"] == 1\n",
    "    #make mask np.nan when 0 and 1 when 1\n",
    "    mask = [[np.nan if x == 0 else 1 for x in y] for y in mask]\n",
    "\n",
    "    #multiply entry-wise the mask with the events\n",
    "    for varName in good_vars:\n",
    "        events[varName] = events[varName]*mask\n",
    "        events[varName] = [[first_non_nan(x)] for x in events[varName]]\n",
    "\n",
    "    #Now that I have the new correct version of the events dictionary, save it to a TTree\n",
    "    #and then save the TTree to a root file\n",
    "    new_signal_file = signal_file.replace(\".root\", \"_new.root\")\n",
    "    file = uproot.recreate(new_signal_file)\n",
    "    file[treename] = events\n",
    "\n"
   ]
  },
  {
   "cell_type": "code",
   "execution_count": 30,
   "metadata": {},
   "outputs": [],
   "source": []
  },
  {
   "cell_type": "code",
   "execution_count": 34,
   "metadata": {},
   "outputs": [],
   "source": []
  },
  {
   "cell_type": "code",
   "execution_count": 1,
   "metadata": {},
   "outputs": [],
   "source": [
    "import numpy as np\n",
    "\n"
   ]
  },
  {
   "cell_type": "code",
   "execution_count": 2,
   "metadata": {},
   "outputs": [],
   "source": [
    "my_arr = [[0,np.nan, 1, 2], [np.nan, np.nan, 3], [np.nan, np.nan, np.nan]]"
   ]
  },
  {
   "cell_type": "code",
   "execution_count": 5,
   "metadata": {},
   "outputs": [
    {
     "data": {
      "text/plain": [
       "nan"
      ]
     },
     "execution_count": 5,
     "metadata": {},
     "output_type": "execute_result"
    }
   ],
   "source": [
    "first_non_nan(my_arr[2])"
   ]
  },
  {
   "cell_type": "code",
   "execution_count": 9,
   "metadata": {},
   "outputs": [
    {
     "name": "stdout",
     "output_type": "stream",
     "text": [
      "192 192\n"
     ]
    }
   ],
   "source": [
    "print(len(new_events[\"C_Ds_pt\"]),len(events[\"C_Ds_pt\"]))\n"
   ]
  },
  {
   "cell_type": "code",
   "execution_count": null,
   "metadata": {},
   "outputs": [],
   "source": []
  }
 ],
 "metadata": {
  "kernelspec": {
   "display_name": "ml",
   "language": "python",
   "name": "python3"
  },
  "language_info": {
   "codemirror_mode": {
    "name": "ipython",
    "version": 3
   },
   "file_extension": ".py",
   "mimetype": "text/x-python",
   "name": "python",
   "nbconvert_exporter": "python",
   "pygments_lexer": "ipython3",
   "version": "3.9.12"
  },
  "orig_nbformat": 4
 },
 "nbformat": 4,
 "nbformat_minor": 2
}
