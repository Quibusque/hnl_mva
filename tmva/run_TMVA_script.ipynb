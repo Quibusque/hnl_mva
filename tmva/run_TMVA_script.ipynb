{
 "cells": [
  {
   "cell_type": "code",
   "execution_count": null,
   "metadata": {},
   "outputs": [],
   "source": [
    "signal_files_old = [\n",
    "    # \"/home/CMS-T3/lunerti/hnl_ntuples_for_mva/tree_HnlToMuPi_prompt_DsToNMu_NToMuPi_SoftQCDnonD_noQuarkFilter_mN1p0_ctau1000p0mm_TuneCP5_13TeV-pythia8-evtgen_tree.root\",\n",
    "    # \"/home/CMS-T3/lunerti/hnl_ntuples_for_mva/tree_HnlToMuPi_prompt_DsToNMu_NToMuPi_SoftQCDnonD_noQuarkFilter_mN1p0_ctau100p0mm_TuneCP5_13TeV-pythia8-evtgen_tree.root\",\n",
    "    # \"/home/CMS-T3/lunerti/hnl_ntuples_for_mva/tree_HnlToMuPi_prompt_DsToNMu_NToMuPi_SoftQCDnonD_noQuarkFilter_mN1p0_ctau10p0mm_TuneCP5_13TeV-pythia8-evtgen_tree.root\",\n",
    "    \"/home/CMS-T3/lunerti/hnl_ntuples_for_mva/tree_HnlToMuPi_prompt_DsToNMu_NToMuPi_SoftQCDnonD_noQuarkFilter_mN1p25_ctau1000p0mm_TuneCP5_13TeV-pythia8-evtgen_tree.root\",\n",
    "    \"/home/CMS-T3/lunerti/hnl_ntuples_for_mva/tree_HnlToMuPi_prompt_DsToNMu_NToMuPi_SoftQCDnonD_noQuarkFilter_mN1p25_ctau100p0mm_TuneCP5_13TeV-pythia8-evtgen_tree.root\",\n",
    "    \"/home/CMS-T3/lunerti/hnl_ntuples_for_mva/tree_HnlToMuPi_prompt_DsToNMu_NToMuPi_SoftQCDnonD_noQuarkFilter_mN1p25_ctau10p0mm_TuneCP5_13TeV-pythia8-evtgen_tree.root\",\n",
    "    # \"/home/CMS-T3/lunerti/hnl_ntuples_for_mva/tree_HnlToMuPi_prompt_DsToNMu_NToMuPi_SoftQCDnonD_noQuarkFilter_mN1p5_ctau1000p0mm_TuneCP5_13TeV-pythia8-evtgen_tree.root\",\n",
    "    # \"/home/CMS-T3/lunerti/hnl_ntuples_for_mva/tree_HnlToMuPi_prompt_DsToNMu_NToMuPi_SoftQCDnonD_noQuarkFilter_mN1p5_ctau100p0mm_TuneCP5_13TeV-pythia8-evtgen_tree.root\",\n",
    "    # \"/home/CMS-T3/lunerti/hnl_ntuples_for_mva/tree_HnlToMuPi_prompt_DsToNMu_NToMuPi_SoftQCDnonD_noQuarkFilter_mN1p5_ctau10p0mm_TuneCP5_13TeV-pythia8-evtgen_tree.root\",\n",
    "    # \"/home/CMS-T3/lunerti/hnl_ntuples_for_mva/tree_HnlToMuPi_prompt_DsToNMu_NToMuPi_SoftQCDnonD_noQuarkFilter_mN1p8_ctau1000p0mm_TuneCP5_13TeV-pythia8-evtgen_tree.root\",\n",
    "    # \"/home/CMS-T3/lunerti/hnl_ntuples_for_mva/tree_HnlToMuPi_prompt_DsToNMu_NToMuPi_SoftQCDnonD_noQuarkFilter_mN1p8_ctau100p0mm_TuneCP5_13TeV-pythia8-evtgen_tree.root\",\n",
    "    # \"/home/CMS-T3/lunerti/hnl_ntuples_for_mva/tree_HnlToMuPi_prompt_DsToNMu_NToMuPi_SoftQCDnonD_noQuarkFilter_mN1p8_ctau10p0mm_TuneCP5_13TeV-pythia8-evtgen_tree.root\",\n",
    "]\n",
    "#as actual signal files, use the ones above with _new.root replacing .root\n",
    "signal_files = [\n",
    "    file_name.replace(\".root\", \"_new.root\") for file_name in signal_files_old\n",
    "]"
   ]
  },
  {
   "cell_type": "code",
   "execution_count": 2,
   "metadata": {},
   "outputs": [
    {
     "name": "stdout",
     "output_type": "stream",
     "text": [
      "2023-10-30 15:29:54.475340: I tensorflow/compiler/mlir/mlir_graph_optimization_pass.cc:353] MLIR V1 optimization pass is not enabled;42m\u001b[33m>\u001b[0m\u001b[1;42m\u001b[33m>\u001b[0m\u001b[1;42m\u001b[33m>\u001b[0m\u001b[1;42m\u001b[33m>\u001b[0m\u001b[1;42m\u001b[33m>\u001b[0m\u001b[1;42m\u001b[33m>\u001b[0m\u001b[1;42m\u001b[33m>\u001b[0m\u001b[1;42m\u001b[33m>\u001b[0m\u001b[1;42m\u001b[33m>\u001b[0m\u001b[1;42m\u001b[33m>\u001b[0m\u001b[1;42m\u001b[33m]\u001b[0m\u001b[0m (\u001b[1;31m93%\u001b[0m, time left: \u001b[1;31m0 sec\u001b[0m\u001b[0m)   [1;42m\u001b[33m.\u001b[0m\u001b[1;42m\u001b[33m.\u001b[0m\u001b[1;42m\u001b[33m.\u001b[0m\u001b[1;42m\u001b[33m.\u001b[0m\u001b[1;42m\u001b[33m.\u001b[0m\u001b[1;42m\u001b[33m.\u001b[0m\u001b[1;42m\u001b[33m]\u001b[0m\u001b[0m (\u001b[1;31m4%\u001b[0m, time left: \u001b[1;31m141 sec\u001b[0m\u001b[0m) \u001b[1;42m\u001b[33m.\u001b[0m\u001b[1;42m\u001b[33m.\u001b[0m\u001b[1;42m\u001b[33m.\u001b[0m\u001b[1;42m\u001b[33m.\u001b[0m\u001b[1;42m\u001b[33m.\u001b[0m\u001b[1;42m\u001b[33m]\u001b[0m\u001b[0m (\u001b[1;31m23%\u001b[0m, time left: \u001b[1;31m117 sec\u001b[0m\u001b[0m) \u001b[0m\u001b[1;42m\u001b[33m>\u001b[0m\u001b[1;42m\u001b[33m>\u001b[0m\u001b[1;42m\u001b[33m>\u001b[0m\u001b[1;42m\u001b[33m>\u001b[0m\u001b[1;42m\u001b[33m>\u001b[0m\u001b[1;42m\u001b[33m.\u001b[0m\u001b[1;42m\u001b[33m.\u001b[0m\u001b[1;42m\u001b[33m.\u001b[0m\u001b[1;42m\u001b[33m]\u001b[0m\u001b[0m (\u001b[1;31m78%\u001b[0m, time left: \u001b[1;31m34 sec\u001b[0m\u001b[0m) \n",
      "2023-10-30 15:29:54.484816: W tensorflow/c/c_api.cc:300] Operation '{name:'dense_1/bias/Assign' id:44 op device:{requested: '', assigned: ''} def:{{{node dense_1/bias/Assign}} = AssignVariableOp[_has_manual_control_dependencies=true, dtype=DT_FLOAT, validate_shape=false](dense_1/bias, dense_1/bias/Initializer/zeros)}}' was changed by setting attribute after it was run by a session. This mutation will have no effect, and will trigger an error in the future. Either don't modify nodes after running them or create a new session.\n",
      "/home/quibus/anaconda3/envs/ml/lib/python3.9/site-packages/keras/engine/training_v1.py:2359: UserWarning: `Model.state_updates` will be removed in a future version. This property should not be used in TensorFlow 2.0, as `updates` are applied automatically.\n",
      "  updates=self.state_updates,\n",
      "2023-10-30 15:29:59.880061: W tensorflow/c/c_api.cc:300] Operation '{name:'dense_1/Softmax' id:50 op device:{requested: '', assigned: ''} def:{{{node dense_1/Softmax}} = Softmax[T=DT_FLOAT, _has_manual_control_dependencies=true](dense_1/BiasAdd)}}' was changed by setting attribute after it was run by a session. This mutation will have no effect, and will trigger an error in the future. Either don't modify nodes after running them or create a new session.\n",
      "2023-10-30 15:29:59.890046: W tensorflow/c/c_api.cc:300] Operation '{name:'count/Assign' id:86 op device:{requested: '', assigned: ''} def:{{{node count/Assign}} = AssignVariableOp[_has_manual_control_dependencies=true, dtype=DT_FLOAT, validate_shape=false](count, count/Initializer/zeros)}}' was changed by setting attribute after it was run by a session. This mutation will have no effect, and will trigger an error in the future. Either don't modify nodes after running them or create a new session.\n",
      "2023-10-30 15:30:07.802192: W tensorflow/c/c_api.cc:300] Operation '{name:'dense_1_1/bias/Assign' id:237 op device:{requested: '', assigned: ''} def:{{{node dense_1_1/bias/Assign}} = AssignVariableOp[_has_manual_control_dependencies=true, dtype=DT_FLOAT, validate_shape=false](dense_1_1/bias, dense_1_1/bias/Initializer/zeros)}}' was changed by setting attribute after it was run by a session. This mutation will have no effect, and will trigger an error in the future. Either don't modify nodes after running them or create a new session.\n",
      "2023-10-30 15:30:09.358380: W tensorflow/c/c_api.cc:300] Operation '{name:'dense_1_1/Softmax' id:243 op device:{requested: '', assigned: ''} def:{{{node dense_1_1/Softmax}} = Softmax[T=DT_FLOAT, _has_manual_control_dependencies=true](dense_1_1/BiasAdd)}}' was changed by setting attribute after it was run by a session. This mutation will have no effect, and will trigger an error in the future. Either don't modify nodes after running them or create a new session.\n",
      "2023-10-30 15:30:09.376220: W tensorflow/c/c_api.cc:300] Operation '{name:'total_1/Assign' id:274 op device:{requested: '', assigned: ''} def:{{{node total_1/Assign}} = AssignVariableOp[_has_manual_control_dependencies=true, dtype=DT_FLOAT, validate_shape=false](total_1, total_1/Initializer/zeros)}}' was changed by setting attribute after it was run by a session. This mutation will have no effect, and will trigger an error in the future. Either don't modify nodes after running them or create a new session.\n"
     ]
    }
   ],
   "source": [
    "#call python my_test.py with -i signal_files, one at a time\n",
    "!python3 my_test.py -i {signal_files[0]} > output_0.txt"
   ]
  },
  {
   "cell_type": "code",
   "execution_count": 3,
   "metadata": {},
   "outputs": [
    {
     "name": "stdout",
     "output_type": "stream",
     "text": [
      "2023-10-30 15:31:14.596321: I tensorflow/core/platform/cpu_feature_guard.cc:182] This TensorFlow binary is optimized to use available CPU instructions in performance-critical operations.\n",
      "To enable the following instructions: SSE4.1 SSE4.2 AVX AVX2 FMA, in other operations, rebuild TensorFlow with the appropriate compiler flags.\n",
      "2023-10-30 15:42:39.022965: I tensorflow/compiler/mlir/mlir_graph_optimization_pass.cc:353] MLIR V1 optimization pass is not enabled;42m\u001b[33m>\u001b[0m\u001b[1;42m\u001b[33m>\u001b[0m\u001b[1;42m\u001b[33m>\u001b[0m\u001b[1;42m\u001b[33m>\u001b[0m\u001b[1;42m\u001b[33m>\u001b[0m\u001b[1;42m\u001b[33m>\u001b[0m\u001b[1;42m\u001b[33m>\u001b[0m\u001b[1;42m\u001b[33m>\u001b[0m\u001b[1;42m\u001b[33m>\u001b[0m\u001b[1;42m\u001b[33m>\u001b[0m\u001b[1;42m\u001b[33m]\u001b[0m\u001b[0m (\u001b[1;31m93%\u001b[0m, time left: \u001b[1;31m0 sec\u001b[0m\u001b[0m)   \n",
      "2023-10-30 15:42:39.030456: W tensorflow/c/c_api.cc:300] Operation '{name:'dense_1/bias/Assign' id:44 op device:{requested: '', assigned: ''} def:{{{node dense_1/bias/Assign}} = AssignVariableOp[_has_manual_control_dependencies=true, dtype=DT_FLOAT, validate_shape=false](dense_1/bias, dense_1/bias/Initializer/zeros)}}' was changed by setting attribute after it was run by a session. This mutation will have no effect, and will trigger an error in the future. Either don't modify nodes after running them or create a new session.\n",
      "/home/quibus/anaconda3/envs/ml/lib/python3.9/site-packages/keras/engine/training_v1.py:2359: UserWarning: `Model.state_updates` will be removed in a future version. This property should not be used in TensorFlow 2.0, as `updates` are applied automatically.\n",
      "  updates=self.state_updates,\n",
      "2023-10-30 15:42:44.519290: W tensorflow/c/c_api.cc:300] Operation '{name:'dense_1/Softmax' id:50 op device:{requested: '', assigned: ''} def:{{{node dense_1/Softmax}} = Softmax[T=DT_FLOAT, _has_manual_control_dependencies=true](dense_1/BiasAdd)}}' was changed by setting attribute after it was run by a session. This mutation will have no effect, and will trigger an error in the future. Either don't modify nodes after running them or create a new session.\n",
      "2023-10-30 15:42:44.526448: W tensorflow/c/c_api.cc:300] Operation '{name:'count/Assign' id:86 op device:{requested: '', assigned: ''} def:{{{node count/Assign}} = AssignVariableOp[_has_manual_control_dependencies=true, dtype=DT_FLOAT, validate_shape=false](count, count/Initializer/zeros)}}' was changed by setting attribute after it was run by a session. This mutation will have no effect, and will trigger an error in the future. Either don't modify nodes after running them or create a new session.\n",
      "2023-10-30 15:42:52.842224: W tensorflow/c/c_api.cc:300] Operation '{name:'dense_1_1/kernel/Assign' id:232 op device:{requested: '', assigned: ''} def:{{{node dense_1_1/kernel/Assign}} = AssignVariableOp[_has_manual_control_dependencies=true, dtype=DT_FLOAT, validate_shape=false](dense_1_1/kernel, dense_1_1/kernel/Initializer/stateless_random_uniform)}}' was changed by setting attribute after it was run by a session. This mutation will have no effect, and will trigger an error in the future. Either don't modify nodes after running them or create a new session.\n",
      "2023-10-30 15:42:54.359934: W tensorflow/c/c_api.cc:300] Operation '{name:'dense_1_1/Softmax' id:243 op device:{requested: '', assigned: ''} def:{{{node dense_1_1/Softmax}} = Softmax[T=DT_FLOAT, _has_manual_control_dependencies=true](dense_1_1/BiasAdd)}}' was changed by setting attribute after it was run by a session. This mutation will have no effect, and will trigger an error in the future. Either don't modify nodes after running them or create a new session.\n",
      "2023-10-30 15:42:54.377921: W tensorflow/c/c_api.cc:300] Operation '{name:'count_1/Assign' id:279 op device:{requested: '', assigned: ''} def:{{{node count_1/Assign}} = AssignVariableOp[_has_manual_control_dependencies=true, dtype=DT_FLOAT, validate_shape=false](count_1, count_1/Initializer/zeros)}}' was changed by setting attribute after it was run by a session. This mutation will have no effect, and will trigger an error in the future. Either don't modify nodes after running them or create a new session.\n"
     ]
    }
   ],
   "source": [
    "!python3 my_test.py -i {signal_files[1]} > output_1.txt\n"
   ]
  },
  {
   "cell_type": "code",
   "execution_count": 4,
   "metadata": {},
   "outputs": [
    {
     "name": "stdout",
     "output_type": "stream",
     "text": [
      "2023-10-30 15:43:57.352416: I tensorflow/core/platform/cpu_feature_guard.cc:182] This TensorFlow binary is optimized to use available CPU instructions in performance-critical operations.\n",
      "To enable the following instructions: SSE4.1 SSE4.2 AVX AVX2 FMA, in other operations, rebuild TensorFlow with the appropriate compiler flags.\n",
      "2023-10-30 15:55:43.434429: I tensorflow/compiler/mlir/mlir_graph_optimization_pass.cc:353] MLIR V1 optimization pass is not enabled;42m\u001b[33m>\u001b[0m\u001b[1;42m\u001b[33m>\u001b[0m\u001b[1;42m\u001b[33m>\u001b[0m\u001b[1;42m\u001b[33m>\u001b[0m\u001b[1;42m\u001b[33m>\u001b[0m\u001b[1;42m\u001b[33m>\u001b[0m\u001b[1;42m\u001b[33m>\u001b[0m\u001b[1;42m\u001b[33m>\u001b[0m\u001b[1;42m\u001b[33m>\u001b[0m\u001b[1;42m\u001b[33m>\u001b[0m\u001b[1;42m\u001b[33m]\u001b[0m\u001b[0m (\u001b[1;31m93%\u001b[0m, time left: \u001b[1;31m0 sec\u001b[0m\u001b[0m)   \n",
      "2023-10-30 15:55:43.439855: W tensorflow/c/c_api.cc:300] Operation '{name:'dense_1/bias/Assign' id:44 op device:{requested: '', assigned: ''} def:{{{node dense_1/bias/Assign}} = AssignVariableOp[_has_manual_control_dependencies=true, dtype=DT_FLOAT, validate_shape=false](dense_1/bias, dense_1/bias/Initializer/zeros)}}' was changed by setting attribute after it was run by a session. This mutation will have no effect, and will trigger an error in the future. Either don't modify nodes after running them or create a new session.\n",
      "/home/quibus/anaconda3/envs/ml/lib/python3.9/site-packages/keras/engine/training_v1.py:2359: UserWarning: `Model.state_updates` will be removed in a future version. This property should not be used in TensorFlow 2.0, as `updates` are applied automatically.\n",
      "  updates=self.state_updates,\n",
      "2023-10-30 15:55:49.027926: W tensorflow/c/c_api.cc:300] Operation '{name:'dense_1/Softmax' id:50 op device:{requested: '', assigned: ''} def:{{{node dense_1/Softmax}} = Softmax[T=DT_FLOAT, _has_manual_control_dependencies=true](dense_1/BiasAdd)}}' was changed by setting attribute after it was run by a session. This mutation will have no effect, and will trigger an error in the future. Either don't modify nodes after running them or create a new session.\n",
      "2023-10-30 15:55:49.036526: W tensorflow/c/c_api.cc:300] Operation '{name:'count/Assign' id:86 op device:{requested: '', assigned: ''} def:{{{node count/Assign}} = AssignVariableOp[_has_manual_control_dependencies=true, dtype=DT_FLOAT, validate_shape=false](count, count/Initializer/zeros)}}' was changed by setting attribute after it was run by a session. This mutation will have no effect, and will trigger an error in the future. Either don't modify nodes after running them or create a new session.\n",
      "2023-10-30 15:55:58.365113: W tensorflow/c/c_api.cc:300] Operation '{name:'dense_1_1/bias/Assign' id:237 op device:{requested: '', assigned: ''} def:{{{node dense_1_1/bias/Assign}} = AssignVariableOp[_has_manual_control_dependencies=true, dtype=DT_FLOAT, validate_shape=false](dense_1_1/bias, dense_1_1/bias/Initializer/zeros)}}' was changed by setting attribute after it was run by a session. This mutation will have no effect, and will trigger an error in the future. Either don't modify nodes after running them or create a new session.\n",
      "2023-10-30 15:55:59.815240: W tensorflow/c/c_api.cc:300] Operation '{name:'dense_1_1/Softmax' id:243 op device:{requested: '', assigned: ''} def:{{{node dense_1_1/Softmax}} = Softmax[T=DT_FLOAT, _has_manual_control_dependencies=true](dense_1_1/BiasAdd)}}' was changed by setting attribute after it was run by a session. This mutation will have no effect, and will trigger an error in the future. Either don't modify nodes after running them or create a new session.\n",
      "2023-10-30 15:55:59.830917: W tensorflow/c/c_api.cc:300] Operation '{name:'count_1/Assign' id:279 op device:{requested: '', assigned: ''} def:{{{node count_1/Assign}} = AssignVariableOp[_has_manual_control_dependencies=true, dtype=DT_FLOAT, validate_shape=false](count_1, count_1/Initializer/zeros)}}' was changed by setting attribute after it was run by a session. This mutation will have no effect, and will trigger an error in the future. Either don't modify nodes after running them or create a new session.\n"
     ]
    }
   ],
   "source": [
    "!python3 my_test.py -i {signal_files[2]} > output_2.txt"
   ]
  },
  {
   "cell_type": "code",
   "execution_count": 8,
   "metadata": {},
   "outputs": [],
   "source": [
    "def extract_ranking(input_file,output_file):\n",
    "    with open(input_file, 'r') as file:\n",
    "        lines = file.readlines()\n",
    "\n",
    "    start = 'Ranking input variables (method specific)...'\n",
    "    end = 'No variable ranking supplied by classifier: PyKeras'\n",
    "\n",
    "    start_index = 0\n",
    "    end_index = 0\n",
    "    #find the index of the line that contains the string start\n",
    "    for i, line in enumerate(lines):\n",
    "        if start in line:\n",
    "            start_index = i\n",
    "        if end in line:\n",
    "            end_index = i\n",
    "            break\n",
    "\n",
    "    result = lines[start_index:end_index]\n",
    "    #elements in result array have a lot of whitespace at the beginning and at the end.\n",
    "    #remove it\n",
    "    result = [x.strip() for x in result]\n",
    "\n",
    "    #print result to outputfile\n",
    "    with open(output_file, 'w') as file:\n",
    "        for line in result:\n",
    "            file.write(line + '\\n')\n"
   ]
  },
  {
   "cell_type": "code",
   "execution_count": 9,
   "metadata": {},
   "outputs": [],
   "source": [
    "input_files = ['output_0.txt', 'output_1.txt', 'output_2.txt']\n",
    "output_files = ['ranking_0.txt', 'ranking_1.txt', 'ranking_2.txt']\n",
    "\n",
    "for input_file,output_file in zip(input_files,output_files):\n",
    "    extract_ranking(input_file,output_file)"
   ]
  },
  {
   "cell_type": "code",
   "execution_count": null,
   "metadata": {},
   "outputs": [],
   "source": []
  }
 ],
 "metadata": {
  "kernelspec": {
   "display_name": "ml",
   "language": "python",
   "name": "python3"
  },
  "language_info": {
   "codemirror_mode": {
    "name": "ipython",
    "version": 3
   },
   "file_extension": ".py",
   "mimetype": "text/x-python",
   "name": "python",
   "nbconvert_exporter": "python",
   "pygments_lexer": "ipython3",
   "version": "3.9.12"
  },
  "orig_nbformat": 4
 },
 "nbformat": 4,
 "nbformat_minor": 2
}
